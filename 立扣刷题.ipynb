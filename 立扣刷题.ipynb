{
 "cells": [
  {
   "cell_type": "markdown",
   "metadata": {},
   "source": [
    "# 54. 螺旋矩阵"
   ]
  },
  {
   "cell_type": "code",
   "execution_count": 6,
   "metadata": {},
   "outputs": [
    {
     "name": "stdout",
     "output_type": "stream",
     "text": [
      "[1, 2, 3, 6, 9, 8, 7, 4, 5]\n"
     ]
    }
   ],
   "source": [
    "from typing import List\n",
    "\n",
    "class Solution:\n",
    "    # def spiralOrder(self, matrix: List[List[int]]) -> List[int]:\n",
    "      def spiralOrder(self, matrix: List[List[int]]):\n",
    "        result = []\n",
    "        while matrix:\n",
    "            result += matrix.pop(0)  # 取矩阵第一行并删除\n",
    "            matrix = list(zip(*matrix))[::-1]  # 旋转矩阵\n",
    "        return result\n",
    "\n",
    "# 测试代码\n",
    "if __name__ == \"__main__\":\n",
    "    matrix = [\n",
    "        [1, 2, 3],\n",
    "        [4, 5, 6],\n",
    "        [7, 8, 9]\n",
    "    ]\n",
    "    solution = Solution()\n",
    "    # print(solution)\n",
    "    result = solution.spiralOrder(matrix)\n",
    "    print(result)  # 输出: [1, 2, 3, 6, 9, 8, 7, 4, 5]\n"
   ]
  },
  {
   "cell_type": "markdown",
   "metadata": {},
   "source": [
    "matrix: List[List[int]] 是 Python 中的类型注解，用于描述 matrix 参数的类型。\n",
    "List[List[int]]：表示一个二维列表，其中每个元素都是 List[int] 类型，即每个元素都是一个整数列表。\n",
    "-> List[int] 是 Python 中的类型注解，用于描述函数的返回值类型。\n",
    "这段代码实现了一个螺旋顺序遍历矩阵的功能。通过不断提取矩阵的第一行，并对剩余的矩阵进行逆时针旋转，最终达到螺旋顺序遍历的效果。\n",
    "旋转矩阵：\n",
    "        *matrix：将 matrix 解包成多个参数传递给 zip 函数，相当于把 matrix 的每一行作为一个独立的参数传递给 zip 函数。\n",
    "        zip 函数：将多个参数重新组合，生成一个新的迭代器，其中每个元组包含来自每个原始参数（即每行）的对应元素。\n",
    "在 Python 中，切片操作符的基本形式是 start:stop:step，它的作用是从 start 位置开始到 stop 位置结束，以 step 为步长提取序列中的元素。\n",
    "    step 是 -1，表示每次向左（反方向）提取一个元素，即从右到左遍历序列。\n",
    "\n"
   ]
  },
  {
   "cell_type": "markdown",
   "metadata": {},
   "source": [
    "# 289. 生命游戏"
   ]
  },
  {
   "cell_type": "code",
   "execution_count": 7,
   "metadata": {},
   "outputs": [
    {
     "name": "stdout",
     "output_type": "stream",
     "text": [
      "[[0, 0, 0], [1, 0, 1], [0, 1, 1], [0, 1, 0]]\n"
     ]
    }
   ],
   "source": [
    "class Solution:\n",
    "    def gameOfLife(self, board: List[List[int]]) -> None:\n",
    "        \"\"\"\n",
    "        Do not return anything, modify board in-place instead.\n",
    "        \"\"\"\n",
    "        import numpy as np\n",
    "        r, c = len(board), len(board[0])\n",
    "        # 下面两行做 zero padding\n",
    "        board_exp = np.array([[0 for _ in range(c + 2)] for _ in range(r + 2)])\n",
    "        board_exp[1:1 + r, 1:1 + c] = np.array(board)\n",
    "        # 设置卷积核\n",
    "        kernel = np.array([[1, 1, 1], [1, 0, 1], [1, 1, 1]])\n",
    "        # 开始卷积\n",
    "        for i in range(1, r + 1):\n",
    "            for j in range(1, c + 1):\n",
    "                # 统计细胞周围 8 个位置的状态\n",
    "                temp_sum = np.sum(kernel * board_exp[i - 1:i + 2, j - 1:j + 2])\n",
    "                # 按照题目规则进行判断\n",
    "                if board_exp[i, j] == 1:\n",
    "                    if temp_sum < 2 or temp_sum > 3:\n",
    "                        board[i - 1][j - 1] = 0\n",
    "                else:\n",
    "                    if temp_sum == 3:\n",
    "                        board[i - 1][j - 1] = 1  \n",
    "\n",
    "if __name__ == \"__main__\":\n",
    "    board=[[0,1,0],[0,0,1],[1,1,1],[0,0,0]]\n",
    "    solution = Solution()\n",
    "    solution.gameOfLife(board)\n",
    "    print(board)  # 输出: [[0,0,0],[1,0,1],[0,1,1],[0,1,0]]"
   ]
  },
  {
   "cell_type": "markdown",
   "metadata": {},
   "source": [
    "_ 是一个常见的惯例，表示循环变量的值将被忽略。\n"
   ]
  },
  {
   "cell_type": "code",
   "execution_count": 19,
   "metadata": {},
   "outputs": [
    {
     "data": {
      "text/plain": [
       "array([[0, 1, 1, 1, 0, 0, 0, 0, 0, 0, 0],\n",
       "       [0, 1, 0, 1, 0, 0, 0, 0, 0, 0, 0],\n",
       "       [0, 1, 1, 1, 0, 0, 0, 0, 0, 0, 0],\n",
       "       [0, 0, 0, 0, 0, 0, 0, 0, 0, 0, 0],\n",
       "       [0, 0, 0, 0, 0, 0, 0, 0, 0, 0, 0],\n",
       "       [0, 0, 0, 0, 0, 0, 0, 0, 0, 0, 0],\n",
       "       [0, 0, 0, 0, 0, 0, 0, 0, 0, 0, 0],\n",
       "       [0, 0, 0, 0, 0, 0, 0, 0, 0, 0, 0],\n",
       "       [0, 0, 0, 0, 0, 0, 0, 0, 0, 0, 0],\n",
       "       [0, 0, 0, 0, 0, 0, 0, 0, 0, 0, 0],\n",
       "       [0, 0, 0, 0, 0, 0, 0, 0, 0, 0, 0]])"
      ]
     },
     "execution_count": 19,
     "metadata": {},
     "output_type": "execute_result"
    }
   ],
   "source": [
    "import numpy as np\n",
    "\n",
    "y=np.array([[1,1,1],[1,0,1],[1,1,1]])\n",
    "x=np.array([[0 for _ in range(11)] for _ in range(11)])\n",
    "x[0:0+3,1:1+3]=np.array(y)\n",
    "\n",
    "x"
   ]
  },
  {
   "cell_type": "markdown",
   "metadata": {},
   "source": [
    "# 48. 旋转图像"
   ]
  },
  {
   "cell_type": "code",
   "execution_count": 1,
   "metadata": {},
   "outputs": [
    {
     "name": "stdout",
     "output_type": "stream",
     "text": [
      "[[7, 4, 1], [8, 5, 2], [9, 6, 3]]\n"
     ]
    }
   ],
   "source": [
    "from typing import List\n",
    "\n",
    "class Solution:\n",
    "    def rotate(self, matrix: List[List[int]]) -> None:\n",
    "        \"\"\"\n",
    "        Do not return anything, modify matrix in-place instead.\n",
    "        \"\"\"\n",
    "        import numpy as np\n",
    "        matrix = np.array(matrix)\n",
    "        matrix = np.transpose(matrix)#这段代码使用了 NumPy 库的 transpose 函数来对矩阵进行转置。转置是一种基本的矩阵操作，它将矩阵的行变为列，将列变为行。\n",
    "        matrix = matrix[:, ::-1]\n",
    "        matrix = matrix.tolist()\n",
    "        return matrix\n",
    "    \n",
    "if __name__ == \"__main__\":\n",
    "    matrix = [[1,2,3],[4,5,6],[7,8,9]]\n",
    "    solution = Solution()\n",
    "    result = solution.rotate(matrix)\n",
    "    print(result)  # 输出: [[7,4,1],[8,5,2],[9,6,3]]"
   ]
  },
  {
   "cell_type": "markdown",
   "metadata": {},
   "source": [
    "matrix[:, ::-1] 表示对 matrix 进行操作，: 表示选取所有行，::-1 表示将每一行的元素顺序反转。\n",
    "这段代码使用了 NumPy 库的 transpose 函数来对矩阵进行转置。转置是一种基本的矩阵操作，它将矩阵的行变为列，将列变为行。\n",
    "这个没有使用到原地算法，故删除"
   ]
  },
  {
   "cell_type": "code",
   "execution_count": 4,
   "metadata": {},
   "outputs": [
    {
     "name": "stdout",
     "output_type": "stream",
     "text": [
      "[[7, 4, 1], [8, 5, 2], [9, 6, 3]]\n"
     ]
    }
   ],
   "source": [
    "from typing import List\n",
    "\n",
    "class Solution:\n",
    "    def rotate(self, matrix: List[List[int]]) -> None:\n",
    "        \"\"\"\n",
    "        Do not return anything, modify matrix in-place instead.\n",
    "        \"\"\"\n",
    "        # 先对矩阵进行转置\n",
    "        for i in range(len(matrix)):\n",
    "            for j in range(i, len(matrix)):\n",
    "                matrix[j][i], matrix[i][j] = matrix[i][j], matrix[j][i]\n",
    "        \n",
    "        # 然后每一行进行反转\n",
    "        for i in range(len(matrix)):\n",
    "            matrix[i] = matrix[i][::-1]\n",
    "\n",
    "    \n",
    "if __name__ == \"__main__\":\n",
    "    matrix = [[1,2,3],[4,5,6],[7,8,9]]\n",
    "    solution = Solution()\n",
    "    result = solution.rotate(matrix)\n",
    "    print(matrix)  # 输出: [[7,4,1],[8,5,2],[9,6,3]]"
   ]
  },
  {
   "cell_type": "markdown",
   "metadata": {},
   "source": [
    "# 73. 矩阵置零"
   ]
  },
  {
   "cell_type": "code",
   "execution_count": 10,
   "metadata": {},
   "outputs": [],
   "source": [
    "from typing import List\n",
    "\n",
    "class Solution:\n",
    "    def setZeroes(self, matrix: List[List[int]]) -> None:\n",
    "        m, n = len(matrix), len(matrix[0])\n",
    "        row, col = [False] * m, [False] * n\n",
    "\n",
    "        for i in range(m):\n",
    "            for j in range(n):\n",
    "                if matrix[i][j] == 0:\n",
    "                    row[i] = col[j] = True\n",
    "        \n",
    "        for i in range(m):\n",
    "           for j in range(n):\n",
    "                if row[i] or col[j]:\n",
    "                    matrix[i][j] = 0\n",
    " \n",
    " \n",
    "if __name__ == \"__main__\":\n",
    "    matrix = [[1,1,1],[1,0,1],[1,1,1]]\n",
    "    solution = Solution()\n",
    "    solution.setZeroes(matrix)\n",
    "    print(matrix)  # 输出: [[1,0,1],[0,0,0],[1,0,1]]\n"
   ]
  },
  {
   "cell_type": "markdown",
   "metadata": {},
   "source": [
    "# 20. 有效的括号"
   ]
  },
  {
   "cell_type": "code",
   "execution_count": 4,
   "metadata": {},
   "outputs": [],
   "source": [
    "class Solution(object):\n",
    "    def isValid(self, s):\n",
    "        \"\"\"\n",
    "        :type s: str\n",
    "        :rtype: bool\n",
    "        \"\"\"\n",
    "        if len(s) % 2 == 1:\n",
    "            return False\n",
    "        \n",
    "        pairs = {\n",
    "            \")\": \"(\",\n",
    "            \"]\": \"[\",\n",
    "            \"}\": \"{\",\n",
    "        }#这段代码定义了一个名为 pairs 的字典，它用于存储一组配对的括号。在这个字典中，每个键都是一个右括号，每个值都是与之匹配的左括号。这样的数据结构通常用于处理括号匹配问题，例如检查一个包含括号的字符串是否正确地匹配了所有的括号。\n",
    "        stack = list()\n",
    "        for ch in s:\n",
    "            if ch in pairs:\n",
    "                if not stack or stack[-1] != pairs[ch]:\n",
    "                    return False\n",
    "                stack.pop()\n",
    "            else:\n",
    "                stack.append(ch)\n",
    "        \n",
    "        return not stack\n"
   ]
  },
  {
   "cell_type": "markdown",
   "metadata": {},
   "source": [
    "# 94. 二叉树的中序遍历"
   ]
  },
  {
   "cell_type": "code",
   "execution_count": null,
   "metadata": {},
   "outputs": [],
   "source": [
    "class TreeNode:\n",
    "    def __init__(self, x):\n",
    "        self.val = x\n",
    "        self.left = None\n",
    "        self.right = None\n",
    "\n",
    "class Solution:\n",
    "    def inorderTraversal(self, root):\n",
    "        if root is None:\n",
    "            return []\n",
    "        return self.inorderTraversal(root.left) + [root.val] + self.inorderTraversal(root.right)"
   ]
  },
  {
   "cell_type": "code",
   "execution_count": 1,
   "metadata": {},
   "outputs": [
    {
     "name": "stdout",
     "output_type": "stream",
     "text": [
      "前序遍历结果:\n",
      "1 2 4 5 3 \n",
      "中序遍历结果:\n",
      "4 2 5 1 3 \n",
      "后序遍历结果:\n",
      "4 5 2 3 1 "
     ]
    }
   ],
   "source": [
    "class TreeNode:\n",
    "    def __init__(self, val=0, left=None, right=None):\n",
    "        self.val = val\n",
    "        self.left = left\n",
    "        self.right = right\n",
    "\n",
    "def preorder_traversal(root):\n",
    "    if root:\n",
    "        print(root.val, end=' ')  # 访问根节点\n",
    "        preorder_traversal(root.left)  # 前序遍历左子树\n",
    "        preorder_traversal(root.right)  # 前序遍历右子树\n",
    "\n",
    "def inorder_traversal(root):\n",
    "    if root:\n",
    "        inorder_traversal(root.left)  # 中序遍历左子树\n",
    "        print(root.val, end=' ')  # 访问根节点\n",
    "        inorder_traversal(root.right)  # 中序遍历右子树\n",
    "\n",
    "def postorder_traversal(root):\n",
    "    if root:\n",
    "        postorder_traversal(root.left)  # 后序遍历左子树\n",
    "        postorder_traversal(root.right)  # 后序遍历右子树\n",
    "        print(root.val, end=' ')  # 访问根节点\n",
    "\n",
    "# 构建示例二叉树\n",
    "#       1\n",
    "#      / \\\n",
    "#     2   3\n",
    "#    / \\\n",
    "#   4   5\n",
    "\n",
    "root = TreeNode(1)\n",
    "root.left = TreeNode(2)\n",
    "root.right = TreeNode(3)\n",
    "root.left.left = TreeNode(4)\n",
    "root.left.right = TreeNode(5)\n",
    "\n",
    "print(\"前序遍历结果:\")\n",
    "preorder_traversal(root)  # 1 2 4 5 3\n",
    "print(\"\\n中序遍历结果:\")\n",
    "inorder_traversal(root)  # 4 2 5 1 3\n",
    "print(\"\\n后序遍历结果:\")\n",
    "postorder_traversal(root)  # 4 5 2 3 1\n"
   ]
  },
  {
   "cell_type": "code",
   "execution_count": 3,
   "metadata": {},
   "outputs": [
    {
     "name": "stdout",
     "output_type": "stream",
     "text": [
      "[4, 2, 5, 1, 3]\n"
     ]
    }
   ],
   "source": [
    "class Solution(object):\n",
    "    def inorderTraversal(self, root):\n",
    "        \"\"\"\n",
    "        :type root: TreeNode\n",
    "        :rtype: List[int]\n",
    "        \"\"\"\n",
    "        if root == None:  #避免特解\n",
    "            return []\n",
    "        self.ans = []\n",
    "        self.findTheTree(root)\n",
    "        return self.ans\n",
    "\n",
    "    def findTheTree(self, treeNode):\n",
    "        if treeNode.left != None:\n",
    "            self.findTheTree(treeNode.left)\n",
    "        self.ans.append(treeNode.val)\n",
    "        if treeNode.right != None:\n",
    "            self.findTheTree(treeNode.right)\n",
    "root = TreeNode(1)\n",
    "root.left = TreeNode(2)\n",
    "root.right = TreeNode(3)\n",
    "root.left.left = TreeNode(4)\n",
    "root.left.right = TreeNode(5)\n",
    "solution = Solution()\n",
    "print(solution.inorderTraversal(root))  # 输出: [4, 2, 5, 1, 3]"
   ]
  },
  {
   "cell_type": "markdown",
   "metadata": {},
   "source": [
    "前序遍历：打印 - 左 - 右\n",
    "中序遍历：左 - 打印 - 右\n",
    "后序遍历：左 - 右 - 打印\n"
   ]
  },
  {
   "cell_type": "markdown",
   "metadata": {},
   "source": [
    "# 402. 移掉 K 位数字"
   ]
  },
  {
   "cell_type": "code",
   "execution_count": 1,
   "metadata": {},
   "outputs": [
    {
     "name": "stdout",
     "output_type": "stream",
     "text": [
      "1219\n"
     ]
    }
   ],
   "source": [
    "class Solution(object):\n",
    "    def removeKdigits(self, num, k):\n",
    "        stack = []\n",
    "        remain = len(num) - k\n",
    "        for digit in num:\n",
    "            while k and stack and stack[-1] > digit:\n",
    "                stack.pop()\n",
    "                k -= 1\n",
    "            stack.append(digit)\n",
    "        return ''.join(stack[:remain]).lstrip('0') or '0'\n",
    "\n",
    "if __name__ == \"__main__\":\n",
    "    num = \"1432219\"\n",
    "    k = 3\n",
    "    solution = Solution()\n",
    "    result = solution.removeKdigits(num, k)\n",
    "    print(result)  # 输出: \"1219\""
   ]
  },
  {
   "cell_type": "markdown",
   "metadata": {},
   "source": [
    "1. 栈(Stack)是一种后进先出（LIFO，Last In First Out）的数据结构。\n",
    "    1.1. 栈顶（Top of the Stack）是栈这种数据结构中的一个重要概念，它指的是栈中最后被压入的元素\n",
    "    当我们使用列表来实现栈时，列表的末尾就成为栈顶，这是因为新元素总是添加到列表的末尾，移除元素时也是从列表的末尾移除。所以使用-1调用栈顶元素\n",
    "\n",
    "2. 堆(Heap)是一种用于动态分配内存的数据结构，内存可以在运行时按需分配和释放。"
   ]
  },
  {
   "cell_type": "markdown",
   "metadata": {},
   "source": [
    "## 字典"
   ]
  },
  {
   "cell_type": "markdown",
   "metadata": {},
   "source": [
    "Python 中的字典（dictionary）是一种用于存储键值对（key-value pairs）的数据结构，它允许你快速查找、插入、删除和更新数据。字典使用大括号 {} 表示，键和值之间用冒号 : 分隔，键值对之间用逗号 , 分隔。"
   ]
  },
  {
   "cell_type": "markdown",
   "metadata": {},
   "source": []
  },
  {
   "cell_type": "markdown",
   "metadata": {},
   "source": [
    "# 316. 去除重复字母"
   ]
  },
  {
   "cell_type": "code",
   "execution_count": 3,
   "metadata": {},
   "outputs": [
    {
     "name": "stdout",
     "output_type": "stream",
     "text": [
      "abc\n"
     ]
    }
   ],
   "source": [
    "\n",
    "import collections\n",
    "class Solution:\n",
    "    def removeDuplicateLetters(self, s):\n",
    "        stack = []\n",
    "        remain_counter = collections.Counter(s)\n",
    "\n",
    "        for c in s:\n",
    "            if c not in stack:\n",
    "                while stack and c < stack[-1] and  remain_counter[stack[-1]] > 0:\n",
    "                    stack.pop()\n",
    "                stack.append(c)\n",
    "            remain_counter[c] -= 1\n",
    "        return ''.join(stack)\n",
    "    \n",
    "if __name__ == \"__main__\":\n",
    "    s = \"bcabc\"\n",
    "    solution = Solution()\n",
    "    result = solution.removeDuplicateLetters(s)\n",
    "    print(result)  # 输出: \"abc\""
   ]
  },
  {
   "cell_type": "markdown",
   "metadata": {},
   "source": [
    "# 387. 字符串中的第一个唯一字符"
   ]
  },
  {
   "cell_type": "code",
   "execution_count": 2,
   "metadata": {},
   "outputs": [
    {
     "name": "stdout",
     "output_type": "stream",
     "text": [
      "0\n"
     ]
    }
   ],
   "source": [
    "import collections\n",
    "class Solution:\n",
    "    def firstUniqChar(self, s: str) -> int:\n",
    "        frequency = collections.Counter(s)\n",
    "        for i, ch in enumerate(s):\n",
    "            if frequency[ch] == 1:\n",
    "                return i\n",
    "        return -1\n",
    "if __name__ == \"__main__\":\n",
    "    s = \"leetcode\"\n",
    "    solution = Solution()\n",
    "    result = solution.firstUniqChar(s)\n",
    "    print(result)  # 输出: 0\n",
    "    "
   ]
  },
  {
   "cell_type": "code",
   "execution_count": 7,
   "metadata": {},
   "outputs": [
    {
     "name": "stdout",
     "output_type": "stream",
     "text": [
      "Index: 0, Character: H\n",
      "Index: 1, Character: e\n",
      "Index: 2, Character: l\n",
      "Index: 3, Character: l\n",
      "Index: 4, Character: o\n"
     ]
    }
   ],
   "source": [
    "s = \"Hello\"\n",
    "for i, bh in enumerate(s):\n",
    "    print(f\"Index: {i}, Character: {bh}\")"
   ]
  },
  {
   "cell_type": "markdown",
   "metadata": {},
   "source": [
    "# 933. 最近的请求次数"
   ]
  },
  {
   "cell_type": "code",
   "execution_count": 2,
   "metadata": {},
   "outputs": [
    {
     "name": "stdout",
     "output_type": "stream",
     "text": [
      "1\n",
      "2\n",
      "3\n",
      "3\n"
     ]
    }
   ],
   "source": [
    "\n",
    "from collections import deque\n",
    "\n",
    "\n",
    "class RecentCounter:\n",
    "    def __init__(self):\n",
    "        self.q = deque()\n",
    "\n",
    "    def ping(self, t: int) -> int:\n",
    "        self.q.append(t)\n",
    "        while self.q[0] < t - 3000:\n",
    "            self.q.popleft()\n",
    "        return len(self.q)\n",
    "    \n",
    "if __name__ == \"__main__\":\n",
    "    obj = RecentCounter()\n",
    "    print(obj.ping(1))  # 输出: 1\n",
    "    print(obj.ping(100))  # 输出: 2\n",
    "    print(obj.ping(3001))  # 输出: 3\n",
    "    print(obj.ping(3002))  # 输出: 3\n"
   ]
  },
  {
   "cell_type": "markdown",
   "metadata": {},
   "source": [
    "deque 是 Python 的一个内置模块，它提供了一个双端队列的数据结构。双端队列是一种特殊的队列，可以在队列的两端添加或删除元素。"
   ]
  },
  {
   "cell_type": "markdown",
   "metadata": {},
   "source": [
    "# 215.数组中第K个最大的元素"
   ]
  },
  {
   "cell_type": "code",
   "execution_count": 4,
   "metadata": {},
   "outputs": [
    {
     "name": "stdout",
     "output_type": "stream",
     "text": [
      "5\n"
     ]
    }
   ],
   "source": [
    "import random\n",
    "from typing import List\n",
    "class Solution:\n",
    "    def findKthLargest(self, nums: List[int], k: int) -> int:\n",
    "        \n",
    "        def partition(arr: List[int], low: int, high: int) -> int:\n",
    "            pivot = arr[low]                                        # 选取最左边为pivot\n",
    "\n",
    "            left, right = low, high     # 双指针\n",
    "            while left < right:\n",
    "                \n",
    "                while left<right and arr[right] >= pivot:          # 找到右边第一个<pivot的元素\n",
    "                    right -= 1\n",
    "                arr[left] = arr[right]                             # 并将其移动到left处\n",
    "                \n",
    "                while left<right and arr[left] <= pivot:           # 找到左边第一个>pivot的元素\n",
    "                    left += 1\n",
    "                arr[right] = arr[left]                             # 并将其移动到right处\n",
    "            \n",
    "            arr[left] = pivot           # pivot放置到中间left=right处\n",
    "            return left\n",
    "        \n",
    "        def randomPartition(arr: List[int], low: int, high: int) -> int:\n",
    "            pivot_idx = random.randint(low, high)                   # 随机选择pivot\n",
    "            arr[low], arr[pivot_idx] = arr[pivot_idx], arr[low]     # pivot放置到最左边\n",
    "            return partition(arr, low, high)                        # 调用partition函数\n",
    "\n",
    "        def topKSplit(arr: List[int], low: int, high: int, k: int) -> int:\n",
    "            # mid = partition(arr, low, high)                   # 以mid为分割点【非随机选择pivot】\n",
    "            mid = randomPartition(arr, low, high)               # 以mid为分割点【随机选择pivot】\n",
    "            if mid == k-1:                                      # 第k小元素的下标为k-1\n",
    "                return arr[mid]                                 #【找到即返回】\n",
    "            elif mid < k-1:\n",
    "                return topKSplit(arr, mid+1, high, k)           # 递归对mid右侧元素进行排序\n",
    "            else:\n",
    "                return topKSplit(arr, low, mid-1, k)            # 递归对mid左侧元素进行排序\n",
    "        \n",
    "        n = len(nums)\n",
    "        return topKSplit(nums, 0, n-1, n-k+1)                   # 第k大元素即为第n-k+1小元素\n",
    "\n",
    "if __name__ == \"__main__\":\n",
    "    nums = [3,2,1,5,6,4]\n",
    "    k = 2\n",
    "    solution = Solution()\n",
    "    result = solution.findKthLargest(nums, k)\n",
    "    print(result)  # 输出: 5"
   ]
  },
  {
   "attachments": {
    "image.png": {
     "image/png": "[encoded data removed]"
    }
   },
   "cell_type": "markdown",
   "metadata": {},
   "source": [
    "![image.png](attachment:image.png)"
   ]
  },
  {
   "cell_type": "markdown",
   "metadata": {},
   "source": [
    "\n"
   ]
  }
 ],
 "metadata": {
  "kernelspec": {
   "display_name": "Python 3",
   "language": "python",
   "name": "python3"
  },
  "language_info": {
   "codemirror_mode": {
    "name": "ipython",
    "version": 3
   },
   "file_extension": ".py",
   "mimetype": "text/x-python",
   "name": "python",
   "nbconvert_exporter": "python",
   "pygments_lexer": "ipython3",
   "version": "3.9.13"
  }
 },
 "nbformat": 4,
 "nbformat_minor": 2
}
