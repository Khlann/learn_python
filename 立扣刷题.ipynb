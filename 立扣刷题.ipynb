{
 "cells": [
  {
   "cell_type": "markdown",
   "metadata": {},
   "source": [
    "# 54. 螺旋矩阵"
   ]
  },
  {
   "cell_type": "code",
   "execution_count": 6,
   "metadata": {},
   "outputs": [
    {
     "name": "stdout",
     "output_type": "stream",
     "text": [
      "[1, 2, 3, 6, 9, 8, 7, 4, 5]\n"
     ]
    }
   ],
   "source": [
    "from typing import List\n",
    "\n",
    "class Solution:\n",
    "    # def spiralOrder(self, matrix: List[List[int]]) -> List[int]:\n",
    "      def spiralOrder(self, matrix: List[List[int]]):\n",
    "        result = []\n",
    "        while matrix:\n",
    "            result += matrix.pop(0)  # 取矩阵第一行并删除\n",
    "            matrix = list(zip(*matrix))[::-1]  # 旋转矩阵\n",
    "        return result\n",
    "\n",
    "# 测试代码\n",
    "if __name__ == \"__main__\":\n",
    "    matrix = [\n",
    "        [1, 2, 3],\n",
    "        [4, 5, 6],\n",
    "        [7, 8, 9]\n",
    "    ]\n",
    "    solution = Solution()\n",
    "    # print(solution)\n",
    "    result = solution.spiralOrder(matrix)\n",
    "    print(result)  # 输出: [1, 2, 3, 6, 9, 8, 7, 4, 5]\n"
   ]
  },
  {
   "cell_type": "markdown",
   "metadata": {},
   "source": [
    "matrix: List[List[int]] 是 Python 中的类型注解，用于描述 matrix 参数的类型。\n",
    "List[List[int]]：表示一个二维列表，其中每个元素都是 List[int] 类型，即每个元素都是一个整数列表。\n",
    "-> List[int] 是 Python 中的类型注解，用于描述函数的返回值类型。\n",
    "这段代码实现了一个螺旋顺序遍历矩阵的功能。通过不断提取矩阵的第一行，并对剩余的矩阵进行逆时针旋转，最终达到螺旋顺序遍历的效果。\n",
    "旋转矩阵：\n",
    "        *matrix：将 matrix 解包成多个参数传递给 zip 函数，相当于把 matrix 的每一行作为一个独立的参数传递给 zip 函数。\n",
    "        zip 函数：将多个参数重新组合，生成一个新的迭代器，其中每个元组包含来自每个原始参数（即每行）的对应元素。\n",
    "在 Python 中，切片操作符的基本形式是 start:stop:step，它的作用是从 start 位置开始到 stop 位置结束，以 step 为步长提取序列中的元素。\n",
    "    step 是 -1，表示每次向左（反方向）提取一个元素，即从右到左遍历序列。\n",
    "\n"
   ]
  },
  {
   "cell_type": "markdown",
   "metadata": {},
   "source": [
    "# 289. 生命游戏"
   ]
  },
  {
   "cell_type": "code",
   "execution_count": 7,
   "metadata": {},
   "outputs": [
    {
     "name": "stdout",
     "output_type": "stream",
     "text": [
      "[[0, 0, 0], [1, 0, 1], [0, 1, 1], [0, 1, 0]]\n"
     ]
    }
   ],
   "source": [
    "class Solution:\n",
    "    def gameOfLife(self, board: List[List[int]]) -> None:\n",
    "        \"\"\"\n",
    "        Do not return anything, modify board in-place instead.\n",
    "        \"\"\"\n",
    "        import numpy as np\n",
    "        r, c = len(board), len(board[0])\n",
    "        # 下面两行做 zero padding\n",
    "        board_exp = np.array([[0 for _ in range(c + 2)] for _ in range(r + 2)])\n",
    "        board_exp[1:1 + r, 1:1 + c] = np.array(board)\n",
    "        # 设置卷积核\n",
    "        kernel = np.array([[1, 1, 1], [1, 0, 1], [1, 1, 1]])\n",
    "        # 开始卷积\n",
    "        for i in range(1, r + 1):\n",
    "            for j in range(1, c + 1):\n",
    "                # 统计细胞周围 8 个位置的状态\n",
    "                temp_sum = np.sum(kernel * board_exp[i - 1:i + 2, j - 1:j + 2])\n",
    "                # 按照题目规则进行判断\n",
    "                if board_exp[i, j] == 1:\n",
    "                    if temp_sum < 2 or temp_sum > 3:\n",
    "                        board[i - 1][j - 1] = 0\n",
    "                else:\n",
    "                    if temp_sum == 3:\n",
    "                        board[i - 1][j - 1] = 1  \n",
    "\n",
    "if __name__ == \"__main__\":\n",
    "    board=[[0,1,0],[0,0,1],[1,1,1],[0,0,0]]\n",
    "    solution = Solution()\n",
    "    solution.gameOfLife(board)\n",
    "    print(board)  # 输出: [[0,0,0],[1,0,1],[0,1,1],[0,1,0]]"
   ]
  },
  {
   "cell_type": "markdown",
   "metadata": {},
   "source": [
    "_ 是一个常见的惯例，表示循环变量的值将被忽略。\n"
   ]
  },
  {
   "cell_type": "code",
   "execution_count": 19,
   "metadata": {},
   "outputs": [
    {
     "data": {
      "text/plain": [
       "array([[0, 1, 1, 1, 0, 0, 0, 0, 0, 0, 0],\n",
       "       [0, 1, 0, 1, 0, 0, 0, 0, 0, 0, 0],\n",
       "       [0, 1, 1, 1, 0, 0, 0, 0, 0, 0, 0],\n",
       "       [0, 0, 0, 0, 0, 0, 0, 0, 0, 0, 0],\n",
       "       [0, 0, 0, 0, 0, 0, 0, 0, 0, 0, 0],\n",
       "       [0, 0, 0, 0, 0, 0, 0, 0, 0, 0, 0],\n",
       "       [0, 0, 0, 0, 0, 0, 0, 0, 0, 0, 0],\n",
       "       [0, 0, 0, 0, 0, 0, 0, 0, 0, 0, 0],\n",
       "       [0, 0, 0, 0, 0, 0, 0, 0, 0, 0, 0],\n",
       "       [0, 0, 0, 0, 0, 0, 0, 0, 0, 0, 0],\n",
       "       [0, 0, 0, 0, 0, 0, 0, 0, 0, 0, 0]])"
      ]
     },
     "execution_count": 19,
     "metadata": {},
     "output_type": "execute_result"
    }
   ],
   "source": [
    "import numpy as np\n",
    "\n",
    "y=np.array([[1,1,1],[1,0,1],[1,1,1]])\n",
    "x=np.array([[0 for _ in range(11)] for _ in range(11)])\n",
    "x[0:0+3,1:1+3]=np.array(y)\n",
    "\n",
    "x"
   ]
  },
  {
   "cell_type": "markdown",
   "metadata": {},
   "source": [
    "# 48. 旋转图像"
   ]
  },
  {
   "cell_type": "code",
   "execution_count": 1,
   "metadata": {},
   "outputs": [
    {
     "name": "stdout",
     "output_type": "stream",
     "text": [
      "[[7, 4, 1], [8, 5, 2], [9, 6, 3]]\n"
     ]
    }
   ],
   "source": [
    "from typing import List\n",
    "\n",
    "class Solution:\n",
    "    def rotate(self, matrix: List[List[int]]) -> None:\n",
    "        \"\"\"\n",
    "        Do not return anything, modify matrix in-place instead.\n",
    "        \"\"\"\n",
    "        import numpy as np\n",
    "        matrix = np.array(matrix)\n",
    "        matrix = np.transpose(matrix)#这段代码使用了 NumPy 库的 transpose 函数来对矩阵进行转置。转置是一种基本的矩阵操作，它将矩阵的行变为列，将列变为行。\n",
    "        matrix = matrix[:, ::-1]\n",
    "        matrix = matrix.tolist()\n",
    "        return matrix\n",
    "    \n",
    "if __name__ == \"__main__\":\n",
    "    matrix = [[1,2,3],[4,5,6],[7,8,9]]\n",
    "    solution = Solution()\n",
    "    result = solution.rotate(matrix)\n",
    "    print(result)  # 输出: [[7,4,1],[8,5,2],[9,6,3]]"
   ]
  },
  {
   "cell_type": "markdown",
   "metadata": {},
   "source": [
    "matrix[:, ::-1] 表示对 matrix 进行操作，: 表示选取所有行，::-1 表示将每一行的元素顺序反转。\n",
    "这段代码使用了 NumPy 库的 transpose 函数来对矩阵进行转置。转置是一种基本的矩阵操作，它将矩阵的行变为列，将列变为行。\n",
    "这个没有使用到原地算法，故删除"
   ]
  },
  {
   "cell_type": "code",
   "execution_count": 4,
   "metadata": {},
   "outputs": [
    {
     "name": "stdout",
     "output_type": "stream",
     "text": [
      "[[7, 4, 1], [8, 5, 2], [9, 6, 3]]\n"
     ]
    }
   ],
   "source": [
    "from typing import List\n",
    "\n",
    "class Solution:\n",
    "    def rotate(self, matrix: List[List[int]]) -> None:\n",
    "        \"\"\"\n",
    "        Do not return anything, modify matrix in-place instead.\n",
    "        \"\"\"\n",
    "        # 先对矩阵进行转置\n",
    "        for i in range(len(matrix)):\n",
    "            for j in range(i, len(matrix)):\n",
    "                matrix[j][i], matrix[i][j] = matrix[i][j], matrix[j][i]\n",
    "        \n",
    "        # 然后每一行进行反转\n",
    "        for i in range(len(matrix)):\n",
    "            matrix[i] = matrix[i][::-1]\n",
    "\n",
    "    \n",
    "if __name__ == \"__main__\":\n",
    "    matrix = [[1,2,3],[4,5,6],[7,8,9]]\n",
    "    solution = Solution()\n",
    "    result = solution.rotate(matrix)\n",
    "    print(matrix)  # 输出: [[7,4,1],[8,5,2],[9,6,3]]"
   ]
  },
  {
   "cell_type": "markdown",
   "metadata": {},
   "source": [
    "# 73. 矩阵置零"
   ]
  },
  {
   "cell_type": "code",
   "execution_count": 10,
   "metadata": {},
   "outputs": [],
   "source": [
    "from typing import List\n",
    "\n",
    "class Solution:\n",
    "    def setZeroes(self, matrix: List[List[int]]) -> None:\n",
    "        m, n = len(matrix), len(matrix[0])\n",
    "        row, col = [False] * m, [False] * n\n",
    "\n",
    "        for i in range(m):\n",
    "            for j in range(n):\n",
    "                if matrix[i][j] == 0:\n",
    "                    row[i] = col[j] = True\n",
    "        \n",
    "        for i in range(m):\n",
    "           for j in range(n):\n",
    "                if row[i] or col[j]:\n",
    "                    matrix[i][j] = 0\n",
    " \n",
    "if __name__ == \"__main__\":\n",
    "    matrix = [[1,1,1],[1,0,1],[1,1,1]]\n",
    "    solution = Solution()\n",
    "    solution.setZeroes(matrix)\n",
    "    print(matrix)  # 输出: [[1,0,1],[0,0,0],[1,0,1]]\n"
   ]
  },
  {
   "cell_type": "markdown",
   "metadata": {},
   "source": [
    "# 20. 有效的括号"
   ]
  },
  {
   "cell_type": "code",
   "execution_count": null,
   "metadata": {},
   "outputs": [],
   "source": [
    "class Solution(object):\n",
    "    def isValid(self, s):\n",
    "        \"\"\"\n",
    "        :type s: str\n",
    "        :rtype: bool\n",
    "        \"\"\"\n",
    "        if len(s) % 2 == 1:\n",
    "            return False\n",
    "        \n",
    "        pairs = {\n",
    "            \")\": \"(\",\n",
    "            \"]\": \"[\",\n",
    "            \"}\": \"{\",\n",
    "        }#这段代码定义了一个名为 pairs 的字典，它用于存储一组配对的括号。在这个字典中，每个键都是一个右括号，每个值都是与之匹配的左括号。这样的数据结构通常用于处理括号匹配问题，例如检查一个包含括号的字符串是否正确地匹配了所有的括号。\n",
    "        stack = list()\n",
    "        for ch in s:\n",
    "            if ch in pairs:\n",
    "                if not stack or stack[-1] != pairs[ch]:\n",
    "                    return False\n",
    "                stack.pop()\n",
    "            else:\n",
    "                stack.append(ch)\n",
    "        \n",
    "        return not stack\n"
   ]
  },
  {
   "cell_type": "markdown",
   "metadata": {},
   "source": []
  }
 ],
 "metadata": {
  "kernelspec": {
   "display_name": "Python 3",
   "language": "python",
   "name": "python3"
  },
  "language_info": {
   "codemirror_mode": {
    "name": "ipython",
    "version": 3
   },
   "file_extension": ".py",
   "mimetype": "text/x-python",
   "name": "python",
   "nbconvert_exporter": "python",
   "pygments_lexer": "ipython3",
   "version": "3.8.10"
  }
 },
 "nbformat": 4,
 "nbformat_minor": 2
}
