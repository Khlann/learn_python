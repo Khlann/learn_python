{
 "cells": [
  {
   "cell_type": "markdown",
   "metadata": {},
   "source": [
    "# 54. 螺旋矩阵"
   ]
  },
  {
   "cell_type": "code",
   "execution_count": 6,
   "metadata": {},
   "outputs": [
    {
     "name": "stdout",
     "output_type": "stream",
     "text": [
      "[1, 2, 3, 6, 9, 8, 7, 4, 5]\n"
     ]
    }
   ],
   "source": [
    "from typing import List\n",
    "\n",
    "class Solution:\n",
    "    # def spiralOrder(self, matrix: List[List[int]]) -> List[int]:\n",
    "      def spiralOrder(self, matrix: List[List[int]]):\n",
    "        result = []\n",
    "        while matrix:\n",
    "            result += matrix.pop(0)  # 取矩阵第一行并删除\n",
    "            matrix = list(zip(*matrix))[::-1]  # 旋转矩阵\n",
    "        return result\n",
    "\n",
    "# 测试代码\n",
    "if __name__ == \"__main__\":\n",
    "    matrix = [\n",
    "        [1, 2, 3],\n",
    "        [4, 5, 6],\n",
    "        [7, 8, 9]\n",
    "    ]\n",
    "    solution = Solution()\n",
    "    # print(solution)\n",
    "    result = solution.spiralOrder(matrix)\n",
    "    print(result)  # 输出: [1, 2, 3, 6, 9, 8, 7, 4, 5]\n"
   ]
  },
  {
   "cell_type": "markdown",
   "metadata": {},
   "source": [
    "matrix: List[List[int]] 是 Python 中的类型注解，用于描述 matrix 参数的类型。\n",
    "List[List[int]]：表示一个二维列表，其中每个元素都是 List[int] 类型，即每个元素都是一个整数列表。\n",
    "-> List[int] 是 Python 中的类型注解，用于描述函数的返回值类型。\n",
    "这段代码实现了一个螺旋顺序遍历矩阵的功能。通过不断提取矩阵的第一行，并对剩余的矩阵进行逆时针旋转，最终达到螺旋顺序遍历的效果。\n",
    "旋转矩阵：\n",
    "        *matrix：将 matrix 解包成多个参数传递给 zip 函数，相当于把 matrix 的每一行作为一个独立的参数传递给 zip 函数。\n",
    "        zip 函数：将多个参数重新组合，生成一个新的迭代器，其中每个元组包含来自每个原始参数（即每行）的对应元素。\n",
    "在 Python 中，切片操作符的基本形式是 start:stop:step，它的作用是从 start 位置开始到 stop 位置结束，以 step 为步长提取序列中的元素。\n",
    "    step 是 -1，表示每次向左（反方向）提取一个元素，即从右到左遍历序列。\n",
    "\n"
   ]
  },
  {
   "cell_type": "markdown",
   "metadata": {},
   "source": [
    "# 289. 生命游戏"
   ]
  },
  {
   "cell_type": "code",
   "execution_count": 7,
   "metadata": {},
   "outputs": [
    {
     "name": "stdout",
     "output_type": "stream",
     "text": [
      "[[0, 0, 0], [1, 0, 1], [0, 1, 1], [0, 1, 0]]\n"
     ]
    }
   ],
   "source": [
    "class Solution:\n",
    "    def gameOfLife(self, board: List[List[int]]) -> None:\n",
    "        \"\"\"\n",
    "        Do not return anything, modify board in-place instead.\n",
    "        \"\"\"\n",
    "        import numpy as np\n",
    "        r, c = len(board), len(board[0])\n",
    "        # 下面两行做 zero padding\n",
    "        board_exp = np.array([[0 for _ in range(c + 2)] for _ in range(r + 2)])\n",
    "        board_exp[1:1 + r, 1:1 + c] = np.array(board)\n",
    "        # 设置卷积核\n",
    "        kernel = np.array([[1, 1, 1], [1, 0, 1], [1, 1, 1]])\n",
    "        # 开始卷积\n",
    "        for i in range(1, r + 1):\n",
    "            for j in range(1, c + 1):\n",
    "                # 统计细胞周围 8 个位置的状态\n",
    "                temp_sum = np.sum(kernel * board_exp[i - 1:i + 2, j - 1:j + 2])\n",
    "                # 按照题目规则进行判断\n",
    "                if board_exp[i, j] == 1:\n",
    "                    if temp_sum < 2 or temp_sum > 3:\n",
    "                        board[i - 1][j - 1] = 0\n",
    "                else:\n",
    "                    if temp_sum == 3:\n",
    "                        board[i - 1][j - 1] = 1  \n",
    "\n",
    "if __name__ == \"__main__\":\n",
    "    board=[[0,1,0],[0,0,1],[1,1,1],[0,0,0]]\n",
    "    solution = Solution()\n",
    "    solution.gameOfLife(board)\n",
    "    print(board)  # 输出: [[0,0,0],[1,0,1],[0,1,1],[0,1,0]]"
   ]
  },
  {
   "cell_type": "markdown",
   "metadata": {},
   "source": [
    "_ 是一个常见的惯例，表示循环变量的值将被忽略。\n"
   ]
  },
  {
   "cell_type": "code",
   "execution_count": 19,
   "metadata": {},
   "outputs": [
    {
     "data": {
      "text/plain": [
       "array([[0, 1, 1, 1, 0, 0, 0, 0, 0, 0, 0],\n",
       "       [0, 1, 0, 1, 0, 0, 0, 0, 0, 0, 0],\n",
       "       [0, 1, 1, 1, 0, 0, 0, 0, 0, 0, 0],\n",
       "       [0, 0, 0, 0, 0, 0, 0, 0, 0, 0, 0],\n",
       "       [0, 0, 0, 0, 0, 0, 0, 0, 0, 0, 0],\n",
       "       [0, 0, 0, 0, 0, 0, 0, 0, 0, 0, 0],\n",
       "       [0, 0, 0, 0, 0, 0, 0, 0, 0, 0, 0],\n",
       "       [0, 0, 0, 0, 0, 0, 0, 0, 0, 0, 0],\n",
       "       [0, 0, 0, 0, 0, 0, 0, 0, 0, 0, 0],\n",
       "       [0, 0, 0, 0, 0, 0, 0, 0, 0, 0, 0],\n",
       "       [0, 0, 0, 0, 0, 0, 0, 0, 0, 0, 0]])"
      ]
     },
     "execution_count": 19,
     "metadata": {},
     "output_type": "execute_result"
    }
   ],
   "source": [
    "import numpy as np\n",
    "\n",
    "y=np.array([[1,1,1],[1,0,1],[1,1,1]])\n",
    "x=np.array([[0 for _ in range(11)] for _ in range(11)])\n",
    "x[0:0+3,1:1+3]=np.array(y)\n",
    "\n",
    "x"
   ]
  },
  {
   "cell_type": "code",
   "execution_count": null,
   "metadata": {},
   "outputs": [],
   "source": []
  }
 ],
 "metadata": {
  "kernelspec": {
   "display_name": "Python 3",
   "language": "python",
   "name": "python3"
  },
  "language_info": {
   "codemirror_mode": {
    "name": "ipython",
    "version": 3
   },
   "file_extension": ".py",
   "mimetype": "text/x-python",
   "name": "python",
   "nbconvert_exporter": "python",
   "pygments_lexer": "ipython3",
   "version": "3.9.13"
  }
 },
 "nbformat": 4,
 "nbformat_minor": 2
}
