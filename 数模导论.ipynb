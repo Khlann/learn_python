{
 "cells": [
  {
   "cell_type": "code",
   "execution_count": 2,
   "metadata": {},
   "outputs": [
    {
     "name": "stdout",
     "output_type": "stream",
     "text": [
      "原坐标为: [5 3]\n",
      "旋转后的坐标为: [2.83012702 5.09807621]\n"
     ]
    }
   ],
   "source": [
    "import numpy as np\n",
    "\n",
    "# 设定旋转角度，这里我们以30度为例\n",
    "theta = np.radians(30)  # 将30度转换为弧度\n",
    "\n",
    "# 创建旋转矩阵\n",
    "rotation_matrix = np.array([\n",
    "    [np.cos(theta), -np.sin(theta)],\n",
    "    [np.sin(theta), np.cos(theta)]\n",
    "])\n",
    "\n",
    "# 假设我们有一个点 (a, b)\n",
    "point = np.array([5, 3])\n",
    "\n",
    "# 通过旋转矩阵变换这个点的坐标\n",
    "rotated_point = rotation_matrix.dot(point)\n",
    "\n",
    "print(\"原坐标为:\", point)\n",
    "print(\"旋转后的坐标为:\", rotated_point)\n",
    "# 原坐标为: [5 3]\n",
    "# 旋转后的坐标为: [2.83012702 5.09807621]\n"
   ]
  },
  {
   "cell_type": "code",
   "execution_count": 5,
   "metadata": {},
   "outputs": [
    {
     "name": "stdout",
     "output_type": "stream",
     "text": [
      "旋转后P点的坐标为: [3.39062937 0.11228132 1.57829826]\n"
     ]
    }
   ],
   "source": [
    "import numpy as np\n",
    "\n",
    "# 定义旋转角度（以弧度为单位）\n",
    "alpha = np.radians(30)  # 绕 Z 轴旋转\n",
    "beta = np.radians(45)   # 绕 Y 轴旋转\n",
    "gamma = np.radians(60)  # 绕 X 轴旋转\n",
    "\n",
    "# 定义旋转矩阵\n",
    "R_z = np.array([[np.cos(alpha), -np.sin(alpha), 0],\n",
    "                [np.sin(alpha), np.cos(alpha), 0],\n",
    "                [0, 0, 1]])\n",
    "\n",
    "R_y = np.array([[np.cos(beta), 0, np.sin(beta)],\n",
    "                [0, 1, 0],\n",
    "                [-np.sin(beta), 0, np.cos(beta)]])\n",
    "\n",
    "R_x = np.array([[1, 0, 0],\n",
    "                [0, np.cos(gamma), -np.sin(gamma)],\n",
    "                [0, np.sin(gamma), np.cos(gamma)]])\n",
    "\n",
    "# 总旋转矩阵\n",
    "R = R_z @ R_y @ R_x\n",
    "\n",
    "# 定义点P的坐标\n",
    "P = np.array([1, 2, 3])\n",
    "\n",
    "# 计算旋转后的坐标\n",
    "P_rotated = R @ P\n",
    "\n",
    "print(\"旋转后P点的坐标为:\", P_rotated)\n",
    "# 旋转后P点的坐标为: [3.39062937 0.11228132 1.57829826]\n"
   ]
  },
  {
   "cell_type": "code",
   "execution_count": 9,
   "metadata": {},
   "outputs": [
    {
     "name": "stdout",
     "output_type": "stream",
     "text": [
      "组合旋转矩阵为:\n",
      "[[ 0.61237244 -0.35355339  0.70710678]\n",
      " [ 0.78033009  0.12682648 -0.61237244]\n",
      " [ 0.12682648  0.9267767   0.35355339]]\n"
     ]
    }
   ],
   "source": [
    "import numpy as np\n",
    "\n",
    "# 定义欧拉角（以弧度为单位）\n",
    "alpha = np.radians(30)  # 绕 z 轴的 Yaw 角度\n",
    "beta = np.radians(45)   # 绕 y 轴的 Pitch 角度\n",
    "gamma = np.radians(60)  # 绕 x 轴的 Roll 角度\n",
    "\n",
    "# 构建对应的旋转矩阵\n",
    "R_z = np.array([[np.cos(alpha), -np.sin(alpha), 0],\n",
    "                [np.sin(alpha), np.cos(alpha), 0],\n",
    "                [0, 0, 1]])\n",
    "R_y = np.array([[np.cos(beta), 0, np.sin(beta)],\n",
    "                [0, 1, 0],\n",
    "                [-np.sin(beta), 0, np.cos(beta)]])\n",
    "R_x = np.array([[1, 0, 0],\n",
    "                [0, np.cos(gamma), -np.sin(gamma)],\n",
    "                [0, np.sin(gamma), np.cos(gamma)]])\n",
    "\n",
    "# 总旋转矩阵，注意乘法的顺序\n",
    "R = R_x@ R_y@R_z\n",
    "\n",
    "print(\"组合旋转矩阵为:\")\n",
    "print(R)\n",
    "# 组合旋转矩阵为:\n",
    "# [[ 0.61237244 -0.35355339  0.70710678]\n",
    "#  [ 0.78033009  0.12682648 -0.61237244]\n",
    "#  [ 0.12682648  0.9267767   0.35355339]]\n"
   ]
  },
  {
   "cell_type": "code",
   "execution_count": 10,
   "metadata": {},
   "outputs": [
    {
     "name": "stdout",
     "output_type": "stream",
     "text": [
      "Scaled vector: [ 5 10 15]\n",
      "Transposed matrix:\n",
      " [[1 4 7]\n",
      " [2 5 8]\n",
      " [3 6 9]]\n",
      "Matrix determinant: 0.0\n",
      "Solution of the linear system: [2. 3.]\n"
     ]
    }
   ],
   "source": [
    "import numpy as np\n",
    "# 创建向量\n",
    "vector = np.array([1, 2, 3])\n",
    "# 创建矩阵\n",
    "matrix = np.array([[1, 2, 3],\n",
    "                   [4, 5, 6],\n",
    "                   [7, 8, 9]])\n",
    "# 数量乘法示例\n",
    "scalar = 5\n",
    "scaled_vector = scalar * vector\n",
    "print(\"Scaled vector:\", scaled_vector)\n",
    "# Scaled vector: [ 5 10 15]\n",
    "\n",
    "# 矩阵的转置示例\n",
    "transposed_matrix = matrix.T\n",
    "print(\"Transposed matrix:\\n\", transposed_matrix)\n",
    "# Transposed matrix:\n",
    "# [[1, 4, 7]\n",
    "#  [2, 5, 8]\n",
    "#  [3, 6, 9]]\n",
    "\n",
    "# 计算行列式示例\n",
    "matrix_determinant = np.linalg.det(matrix)\n",
    "print(\"Matrix determinant:\", matrix_determinant)\n",
    "# Matrix determinant: 0.0\n",
    "\n",
    "# 求解线性方程组示例\n",
    "A = np.array([[3, 1], [1, 2]])\n",
    "b = np.array([9, 8])\n",
    "solution = np.linalg.solve(A, b)\n",
    "print(\"Solution of the linear system:\", solution)\n",
    "# Solution of the linear system: [2. 3.]\n"
   ]
  },
  {
   "cell_type": "code",
   "execution_count": 11,
   "metadata": {},
   "outputs": [
    {
     "name": "stdout",
     "output_type": "stream",
     "text": [
      "Pseudo-inverse of the matrix:\n",
      "[[-6.38888889e-01 -1.66666667e-01  3.05555556e-01]\n",
      " [-5.55555556e-02  5.50468329e-17  5.55555556e-02]\n",
      " [ 5.27777778e-01  1.66666667e-01 -1.94444444e-01]]\n"
     ]
    }
   ],
   "source": [
    "import numpy as np\n",
    "# If the matrix is singular, use the pseudo-inverse\n",
    "pseudo_inverse_matrix = np.linalg.pinv(matrix)\n",
    "print(\"Pseudo-inverse of the matrix:\")\n",
    "print(pseudo_inverse_matrix)\n",
    "# Pseudo-inverse of the matrix:\n",
    "# [[-6.38888889e-01 -1.66666667e-01  3.05555556e-01]\n",
    "#  [-5.55555556e-02  4.20756436e-17  5.55555556e-02]\n",
    "#  [ 5.27777778e-01  1.66666667e-01 -1.94444444e-01]]\n"
   ]
  },
  {
   "cell_type": "code",
   "execution_count": 12,
   "metadata": {},
   "outputs": [
    {
     "name": "stdout",
     "output_type": "stream",
     "text": [
      "[ 1.61168440e+01 -1.11684397e+00 -1.30367773e-15]\n",
      "[[-0.23197069 -0.78583024  0.40824829]\n",
      " [-0.52532209 -0.08675134 -0.81649658]\n",
      " [-0.8186735   0.61232756  0.40824829]]\n"
     ]
    }
   ],
   "source": [
    "eigenvalues, eigenvectors = np.linalg.eig(matrix)\n",
    "print(eigenvalues)\n",
    "# [ 1.61168440e+01 -1.11684397e+00 -1.30367773e-15]\n",
    "\n",
    "print(eigenvectors)\n",
    "# [[-0.23197069 -0.78583024  0.40824829]\n",
    "#  [-0.52532209 -0.08675134 -0.81649658]\n",
    "#  [-0.8186735   0.61232756  0.40824829]]\n"
   ]
  },
  {
   "cell_type": "code",
   "execution_count": 13,
   "metadata": {},
   "outputs": [
    {
     "name": "stdout",
     "output_type": "stream",
     "text": [
      "[[-0.21483724  0.88723069  0.40824829]\n",
      " [-0.52058739  0.24964395 -0.81649658]\n",
      " [-0.82633754 -0.38794278  0.40824829]]\n",
      "[1.68481034e+01 1.06836951e+00 4.41842475e-16]\n",
      "[[-0.47967118 -0.57236779 -0.66506441]\n",
      " [-0.77669099 -0.07568647  0.62531805]\n",
      " [-0.40824829  0.81649658 -0.40824829]]\n"
     ]
    }
   ],
   "source": [
    "U, S, V = np.linalg.svd(matrix)\n",
    "print(U)\n",
    "# [[-0.21483724  0.88723069  0.40824829]\n",
    "#  [-0.52058739  0.24964395 -0.81649658]\n",
    "#  [-0.82633754 -0.38794278  0.40824829]]\n",
    "\n",
    "print(S)\n",
    "# [1.68481034e+01 1.06836951e+00 4.41842475e-16]\n",
    "\n",
    "print(V)\n",
    "# [[-0.47967118 -0.57236779 -0.66506441]\n",
    "#  [-0.77669099 -0.07568647  0.62531805]\n",
    "#  [-0.40824829  0.81649658 -0.40824829]]\n"
   ]
  },
  {
   "cell_type": "code",
   "execution_count": 14,
   "metadata": {},
   "outputs": [
    {
     "data": {
      "text/plain": [
       "<Figure size 640x480 with 0 Axes>"
      ]
     },
     "metadata": {},
     "output_type": "display_data"
    },
    {
     "name": "stdout",
     "output_type": "stream",
     "text": [
      "max_fitness: 3751.3699936259486\n",
      "最优的基因型： [1 1 1 1 1 1 1 0 1 1 1 0 0 0 1 0 1 0 1 1 1 0 1 1 0 0 0 0 0 0 1 0 1 1 0 1 1\n",
      " 0 0 1 1 1 1 0 0 0 0 1]\n",
      "(x, y): (2.030170897374803, -2.002382565640364)\n",
      "3751.3699936259486\n"
     ]
    }
   ],
   "source": [
    "import numpy as np\n",
    "import matplotlib.pyplot as plt\n",
    "from matplotlib import cm\n",
    "from mpl_toolkits.mplot3d import Axes3D\n",
    "\n",
    "DNA_SIZE = 24\n",
    "POP_SIZE = 80\n",
    "CROSSOVER_RATE = 0.6\n",
    "MUTATION_RATE = 0.01\n",
    "N_GENERATIONS = 100\n",
    "X_BOUND = [-2.048, 2.048]\n",
    "Y_BOUND = [-2.048, 2.048]\n",
    "def F(x, y):\n",
    "    return 100.0 * (y - x ** 2.0) ** 2.0 + (1 - x) ** 2.0  # 以香蕉函数为例\n",
    "def plot_3d(ax):\n",
    "    X = np.linspace(*X_BOUND, 100)\n",
    "    Y = np.linspace(*Y_BOUND, 100)\n",
    "    X, Y = np.meshgrid(X, Y)\n",
    "    Z = F(X, Y)\n",
    "    ax.plot_surface(X, Y, Z, rstride=1, cstride=1, cmap=cm.coolwarm)\n",
    "    ax.set_xlabel('x')\n",
    "    ax.set_ylabel('y')\n",
    "    ax.set_zlabel('z')\n",
    "    plt.pause(3)\n",
    "    plt.show()\n",
    "def get_fitness(pop):\n",
    "    x, y = translateDNA(pop)\n",
    "    pred = F(x, y)\n",
    "    return pred\n",
    "    # return pred - np.min(pred)+1e-3  # 求最大值时的适应度\n",
    "    # return np.max(pred) - pred + 1e-3  # 求最小值时的适应度，通过这一步fitness的范围为[0, np.max(pred)-np.min(pred)]\n",
    "def translateDNA(pop):  # pop表示种群矩阵，一行表示一个二进制编码表示的DNA，矩阵的行数为种群数目\n",
    "    x_pop = pop[:, 0:DNA_SIZE]  # 前DNA_SIZE位表示X\n",
    "    y_pop = pop[:, DNA_SIZE:]  # 后DNA_SIZE位表示Y\n",
    "    x = x_pop.dot(2 ** np.arange(DNA_SIZE)[::-1]) / float(2 ** DNA_SIZE - 1) * (X_BOUND[1] - X_BOUND[0]) + X_BOUND[0]\n",
    "    y = y_pop.dot(2 ** np.arange(DNA_SIZE)[::-1]) / float(2 ** DNA_SIZE - 1) * (Y_BOUND[1] - Y_BOUND[0]) + Y_BOUND[0]\n",
    "    return x, y\n",
    "def crossover_and_mutation(pop, CROSSOVER_RATE=0.8):\n",
    "    new_pop = []\n",
    "    for father in pop:  # 遍历种群中的每一个个体，将该个体作为父亲\n",
    "        child = father  # 孩子先得到父亲的全部基因（这里我把一串二进制串的那些0，1称为基因）\n",
    "        if np.random.rand() < CROSSOVER_RATE:  # 产生子代时不是必然发生交叉，而是以一定的概率发生交叉\n",
    "            mother = pop[np.random.randint(POP_SIZE)]  # 再种群中选择另一个个体，并将该个体作为母亲\n",
    "            cross_points = np.random.randint(low=0, high=DNA_SIZE * 2)  # 随机产生交叉的点\n",
    "            child[cross_points:] = mother[cross_points:]  # 孩子得到位于交叉点后的母亲的基因\n",
    "        mutation(child)  # 每个后代有一定的机率发生变异\n",
    "        new_pop.append(child)\n",
    "    return new_pop\n",
    "def mutation(child, MUTATION_RATE=0.003):\n",
    "    if np.random.rand() < MUTATION_RATE:  # 以MUTATION_RATE的概率进行变异\n",
    "        mutate_point = np.random.randint(0, DNA_SIZE)  # 随机产生一个实数，代表要变异基因的位置\n",
    "        child[mutate_point] = child[mutate_point] ^ 1  # 将变异点的二进制为反转\n",
    "def select(pop, fitness):  # nature selection wrt pop's fitness\n",
    "    idx = np.random.choice(np.arange(POP_SIZE), size=POP_SIZE, replace=True,\n",
    "                           p=(fitness) / (fitness.sum()))\n",
    "    return pop[idx]\n",
    "def print_info(pop):\n",
    "    fitness = get_fitness(pop)\n",
    "    max_fitness_index = np.argmax(fitness)\n",
    "    print(\"max_fitness:\", fitness[max_fitness_index])\n",
    "    x, y = translateDNA(pop)\n",
    "    print(\"最优的基因型：\", pop[max_fitness_index])\n",
    "    print(\"(x, y):\", (x[max_fitness_index], y[max_fitness_index]))\n",
    "    print(F(x[max_fitness_index], y[max_fitness_index]))\n",
    "if __name__ == \"__main__\":\n",
    "    fig = plt.figure()\n",
    "    ax = Axes3D(fig)\n",
    "    plot_3d(ax)\n",
    "    pop = np.random.randint(2, size=(POP_SIZE, DNA_SIZE * 2))  # matrix (POP_SIZE, DNA_SIZE)\n",
    "    for _ in range(N_GENERATIONS):  # 迭代N代\n",
    "        x, y = translateDNA(pop)\n",
    "        if 'sca' in locals():\n",
    "            sca.remove()\n",
    "        sca = ax.scatter(x, y, F(x, y), c='black', marker='o')\n",
    "        plt.show()\n",
    "        plt.pause(0.1)\n",
    "        pop = np.array(crossover_and_mutation(pop, CROSSOVER_RATE))\n",
    "        fitness = get_fitness(pop)\n",
    "        pop = select(pop, fitness)  # 选择生成新的种群\n",
    "    print_info(pop)\n",
    "    plot_3d(ax)\n"
   ]
  }
 ],
 "metadata": {
  "kernelspec": {
   "display_name": "Python 3",
   "language": "python",
   "name": "python3"
  },
  "language_info": {
   "codemirror_mode": {
    "name": "ipython",
    "version": 3
   },
   "file_extension": ".py",
   "mimetype": "text/x-python",
   "name": "python",
   "nbconvert_exporter": "python",
   "pygments_lexer": "ipython3",
   "version": "3.9.13"
  }
 },
 "nbformat": 4,
 "nbformat_minor": 2
}
