{
 "cells": [
  {
   "cell_type": "markdown",
   "metadata": {},
   "source": [
    "# 共轭梯度"
   ]
  },
  {
   "cell_type": "code",
   "execution_count": 5,
   "metadata": {},
   "outputs": [
    {
     "name": "stdout",
     "output_type": "stream",
     "text": [
      "Solution x: [0.09090909 0.63636364]\n",
      "Number of iterations: 2\n"
     ]
    }
   ],
   "source": [
    "import numpy as np\n",
    "\n",
    "# 定义矩阵A和向量b\n",
    "A = np.array([[4, 1], [1, 3]])\n",
    "b = np.array([1, 2])\n",
    "\n",
    "# 初始化\n",
    "x = np.zeros_like(b)  # 初始解，代码使用numpy库的zeros_like函数创建了一个新的数组x，这个数组与b数组具有相同的形状和类型，但所有元素的值都是0\n",
    "r = b - np.dot(A, x)  # 初始残差\n",
    "p = r.copy()  # 初始搜索方向\n",
    "\n",
    "# 定义最大迭代次数和容忍度，用于判断何时停止\n",
    "max_iterations = 1000\n",
    "tolerance = 1e-6\n",
    "\n",
    "# 共轭梯度法迭代过程\n",
    "for i in range(max_iterations):\n",
    "    r_old = np.dot(r, r)  # 旧残差的点积\n",
    "    Ap = np.dot(A, p)\n",
    "    \n",
    "    alpha = r_old / np.dot(p, Ap)  # 步长\n",
    "    x = x+alpha * p  # 更新解\n",
    "    r = r-alpha * Ap  # 更新残差\n",
    "    \n",
    "    if np.linalg.norm(r) < tolerance:  # 检查收敛性\n",
    "        break\n",
    "    \n",
    "    beta = np.dot(r, r) / r_old  # 更新方向的系数\n",
    "    p = r + beta * p  # 更新搜索方向\n",
    "\n",
    "print(\"Solution x:\", x)\n",
    "print(\"Number of iterations:\", i+1)\n"
   ]
  },
  {
   "cell_type": "markdown",
   "metadata": {},
   "source": [
    "# 牛顿法"
   ]
  },
  {
   "cell_type": "code",
   "execution_count": 6,
   "metadata": {},
   "outputs": [
    {
     "name": "stdout",
     "output_type": "stream",
     "text": [
      "Found solution after 4 iterations.\n",
      "Approximate value of sqrt(2): 1.4142135623746899\n"
     ]
    }
   ],
   "source": [
    "def f(x):\n",
    "    \"\"\"定义函数 f(x) = x^2 - 2\"\"\"\n",
    "    return x**2 - 2\n",
    "\n",
    "def df(x):\n",
    "    \"\"\"定义函数的导数 f'(x) = 2x\"\"\"\n",
    "    return 2*x\n",
    "\n",
    "def newton_method(f, df, x0, tolerance=1e-10, max_iterations=1000):\n",
    "    \"\"\"牛顿法函数\n",
    "    参数:\n",
    "    f : 函数\n",
    "    df: 函数的导数\n",
    "    x0: 初始估计值\n",
    "    tolerance: 收敛容忍度\n",
    "    max_iterations: 最大迭代次数\n",
    "    \"\"\"\n",
    "    xn = x0\n",
    "    for n in range(max_iterations):\n",
    "        fxn = f(xn)\n",
    "        if abs(fxn) < tolerance:  # 检查是否足够接近零\n",
    "            print(f\"Found solution after {n} iterations.\")\n",
    "            return xn\n",
    "        dfxn = df(xn)\n",
    "        if dfxn == 0:\n",
    "            print(\"Zero derivative. No solution found.\")\n",
    "            return None\n",
    "        xn = xn - fxn / dfxn  # 更新公式\n",
    "    print(\"Exceeded maximum iterations. No solution found.\")\n",
    "    return None\n",
    "\n",
    "# 初始估计值 x0\n",
    "initial_guess = 1.0\n",
    "# 调用牛顿法\n",
    "approximate_sqrt2 = newton_method(f, df, initial_guess)\n",
    "\n",
    "print(\"Approximate value of sqrt(2):\", approximate_sqrt2)\n"
   ]
  },
  {
   "cell_type": "markdown",
   "metadata": {},
   "source": [
    "# Davidon-Fletcher-Powell (DFP) 算法"
   ]
  },
  {
   "cell_type": "code",
   "execution_count": 7,
   "metadata": {},
   "outputs": [
    {
     "name": "stdout",
     "output_type": "stream",
     "text": [
      "找到的最小值点： [1. 2.]\n",
      "在该点的函数值： 0.0\n"
     ]
    }
   ],
   "source": [
    "import numpy as np\n",
    "\n",
    "def f(x):\n",
    "    \"\"\" 目标函数 \"\"\"\n",
    "    return (x[0] - 1)**2 + (x[1] - 2)**2\n",
    "\n",
    "def grad_f(x):\n",
    "    \"\"\" 目标函数的梯度 \"\"\"\n",
    "    return np.array([2 * (x[0] - 1), 2 * (x[1] - 2)])\n",
    "\n",
    "def dfp(f, grad_f, x0, tol=1e-5, max_iter=1000):\n",
    "    \"\"\" DFP算法实现 \"\"\"\n",
    "    n = len(x0)\n",
    "    x = x0\n",
    "    H = np.eye(n)  # 初始化Hessian的逆近似为单位矩阵\n",
    "    \n",
    "    for _ in range(max_iter):\n",
    "        grad = grad_f(x)\n",
    "        if np.linalg.norm(grad) < tol:\n",
    "            break\n",
    "\n",
    "        # 计算搜索方向\n",
    "        p = -np.dot(H, grad)\n",
    "        \n",
    "        # 线搜索找到合适的步长alpha\n",
    "        alpha = 1\n",
    "        while f(x + alpha * p) > f(x) + 0.1 * alpha * np.dot(grad, p):\n",
    "            alpha *= 0.5\n",
    "        \n",
    "        # 更新x\n",
    "        x_new = x + alpha * p\n",
    "        s = x_new - x\n",
    "        y = grad_f(x_new) - grad\n",
    "        \n",
    "        # 更新Hessian的逆近似\n",
    "        rho = 1.0 / np.dot(y, s)\n",
    "        Hy = np.dot(H, y)\n",
    "        H = H + rho * np.outer(s, s) - rho * np.outer(Hy, Hy)\n",
    "        \n",
    "        x = x_new\n",
    "\n",
    "    return x\n",
    "\n",
    "# 初始点\n",
    "x0 = np.array([0.0, 0.0])\n",
    "# 调用DFP算法\n",
    "x_min = dfp(f, grad_f, x0)\n",
    "print(\"找到的最小值点：\", x_min)\n",
    "print(\"在该点的函数值：\", f(x_min))\n"
   ]
  }
 ],
 "metadata": {
  "kernelspec": {
   "display_name": "Python 3",
   "language": "python",
   "name": "python3"
  },
  "language_info": {
   "codemirror_mode": {
    "name": "ipython",
    "version": 3
   },
   "file_extension": ".py",
   "mimetype": "text/x-python",
   "name": "python",
   "nbconvert_exporter": "python",
   "pygments_lexer": "ipython3",
   "version": "3.9.13"
  }
 },
 "nbformat": 4,
 "nbformat_minor": 2
}
